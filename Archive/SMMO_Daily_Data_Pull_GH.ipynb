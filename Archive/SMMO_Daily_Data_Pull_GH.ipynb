{
 "cells": [
  {
   "cell_type": "markdown",
   "id": "95da4778",
   "metadata": {},
   "source": [
    "# Python Modules"
   ]
  },
  {
   "cell_type": "code",
   "execution_count": null,
   "id": "6d79bbf2",
   "metadata": {},
   "outputs": [],
   "source": [
    "import requests\n",
    "import json\n",
    "import pandas as pd\n",
    "import numpy as np\n",
    "import matplotlib.pyplot as plt\n",
    "from datetime import date\n",
    "from datetime import datetime, timedelta\n",
    "import time"
   ]
  },
  {
   "cell_type": "code",
   "execution_count": null,
   "id": "04645063",
   "metadata": {},
   "outputs": [],
   "source": [
    "key = {'api_key': \"INSERT API KEY\"}"
   ]
  },
  {
   "cell_type": "markdown",
   "id": "77bbd03d",
   "metadata": {},
   "source": [
    "# Daily Data Pull Functions"
   ]
  },
  {
   "cell_type": "code",
   "execution_count": null,
   "id": "86742337",
   "metadata": {},
   "outputs": [],
   "source": [
    "def get_daily_pull(data_df, key):\n",
    "    \"\"\"\n",
    "    Pulls guild info from guild data endpoint 20 guilds at a time\n",
    "    input: blank dataframe\n",
    "    output: dataframe with all guild info\n",
    "    \"\"\"\n",
    "    flag = True\n",
    "    page_num = 1\n",
    "    while flag:\n",
    "        # API rate limits to 40 calls per min\n",
    "        if page_num == 30 or page_num == 60 or page_num == 90:\n",
    "            time.sleep(60)\n",
    "\n",
    "        all_guild_url = f\"https://api.simple-mmo.com/v1/guilds/all?page={page_num}\"\n",
    "        all_guild_response = requests.post(all_guild_url, data = key)\n",
    "        if all_guild_response.ok:\n",
    "            #print(f\"Success! Status Code = {all_guild_response.status_code}\")\n",
    "            # load API content into json\n",
    "            all_guild_response_dict = json.loads(all_guild_response.text)\n",
    "            # stores the list of guilds and their data \n",
    "            data = all_guild_response_dict['data']\n",
    "\n",
    "            # API returns a blank page if for loop has iterated through all the guilds instead of a different status code than 200\n",
    "            # this catches the blank data and ends the for loop\n",
    "            if data == []:\n",
    "                flag = False\n",
    "            else:\n",
    "                # append list of dictionaries into a dataframe\n",
    "                data_df = data_df.append(data, ignore_index = True, sort = False)\n",
    "                page_num += 1\n",
    "        else:\n",
    "            print(\"Failure!\")\n",
    "            print(all_guild_response.status_code)\n",
    "            flag = False\n",
    "    \n",
    "    return data_df"
   ]
  },
  {
   "cell_type": "code",
   "execution_count": null,
   "id": "0719d290",
   "metadata": {},
   "outputs": [],
   "source": [
    "def remove_inactive_guilds(guild_df):\n",
    "    \"\"\"\n",
    "    Removes all guilds where they haven't earn any exp since the guild update (v9.0)\n",
    "    input: dataframe of all guild info\n",
    "    output: dataframe of \"active\" guilds\n",
    "    \"\"\"\n",
    "    active_guilds_df = guild_df[guild_df['exp'] != 0]\n",
    "    return active_guilds_df"
   ]
  },
  {
   "cell_type": "code",
   "execution_count": null,
   "id": "71703881",
   "metadata": {},
   "outputs": [],
   "source": [
    "def sort_guilds(cleaned_guild_df):\n",
    "    \"\"\"\n",
    "    Sorts active guilds by ascending order\n",
    "    input: active guilds dataframe\n",
    "    output: sorted active guilds dataframe\n",
    "    \"\"\"\n",
    "    sorted_df = cleaned_guild_df.sort_values(by = ['exp'], ascending = False)\n",
    "    return sorted_df"
   ]
  },
  {
   "cell_type": "code",
   "execution_count": null,
   "id": "0802d2ea",
   "metadata": {},
   "outputs": [],
   "source": [
    "def create_standing(sorted_guild_df):\n",
    "    \"\"\"\n",
    "    Creates a standing column in dataframe. This is the rank like a leaderboard\n",
    "    input: sorted, active guild dataframe\n",
    "    output: sorted, active guild dataframe\n",
    "    \"\"\"\n",
    "    sorted_guild_df['standing'] = sorted_guild_df['exp'].rank(ascending = False, method = 'first')\n",
    "    return sorted_guild_df"
   ]
  },
  {
   "cell_type": "code",
   "execution_count": null,
   "id": "851b96ef",
   "metadata": {},
   "outputs": [],
   "source": [
    "def get_guild_ids(daily_df):\n",
    "    \"\"\"\n",
    "    Get list of guild ids from daily guild data\n",
    "    Input: DataFrame\n",
    "    Output: List\n",
    "    \"\"\"\n",
    "    guild_ids = daily_df['id'].tolist()\n",
    "    \n",
    "    return guild_ids"
   ]
  },
  {
   "cell_type": "code",
   "execution_count": null,
   "id": "2420deae",
   "metadata": {},
   "outputs": [],
   "source": [
    "def post_request(guild_id):\n",
    "    \"\"\"\n",
    "    Conduct a POST request to the SMMO Guild Members End Point\n",
    "    Input: string\n",
    "    Output: requests.Response object\n",
    "    \"\"\"\n",
    "    url = f\"https://api.simple-mmo.com/v1/guilds/members/{guild_id}\"\n",
    "    mem_response = requests.post(url, data = key)\n",
    "    \n",
    "    return(mem_response)"
   ]
  },
  {
   "cell_type": "code",
   "execution_count": null,
   "id": "cb1709ef",
   "metadata": {},
   "outputs": [],
   "source": [
    "def get_guild_mems(guild_list):\n",
    "    \"\"\"\n",
    "    For each guild, get the number of guild members currently in the guild.\n",
    "    Input: list \n",
    "    Output: DataFrame\n",
    "    \"\"\"\n",
    "    counter = 0\n",
    "    ans_df = pd.DataFrame()\n",
    "\n",
    "    for gid in guild_list:\n",
    "        # API endpoint has a rate limit of 40 calls per minute\n",
    "        # to stay safe add minute of delay after 30 calls to end point\n",
    "        if counter % 30 != 0:\n",
    "            member_response = post_request(gid)\n",
    "            counter += 1\n",
    "            print(counter)\n",
    "        else:\n",
    "            time.sleep(60)\n",
    "            member_response = post_request(gid)\n",
    "            counter += 1\n",
    "            print(counter)\n",
    "        # take text data, make it a dictionary then build a temp dataframe which will be concated with end dataframe of all data\n",
    "        if member_response.ok:\n",
    "            glen_dict = {}\n",
    "            mem_dict = json.loads(member_response.text)\n",
    "            glen_dict[gid] = len(mem_dict)\n",
    "            print(glen_dict)\n",
    "            temp_df = pd.DataFrame({'Guild': list(glen_dict.keys()), 'Number of Members': list(glen_dict.values())})\n",
    "            ans_df = pd.concat([ans_df, temp_df], ignore_index = True)\n",
    "        \n",
    "        else:\n",
    "            print(\"Failure!\")\n",
    "            print(mem_reponse.status_code)\n",
    "    \n",
    "    return ans_df"
   ]
  },
  {
   "cell_type": "code",
   "execution_count": null,
   "id": "e1e4cf1e",
   "metadata": {},
   "outputs": [],
   "source": [
    "def create_mem_count(guild_mem_count_df, overall_df):\n",
    "    \"\"\"\n",
    "    Take DataFrame of guild member counts and combine it with the overall daily guild DataFrame.\n",
    "    Input: DataFrame\n",
    "    Output: DataFrame\n",
    "    \"\"\"\n",
    "    \n",
    "    member_count_list = guild_mem_count_df['Number of Members'].tolist()\n",
    "    overall_df['Member Count'] = member_count_list\n",
    "    \n",
    "    return overall_df"
   ]
  },
  {
   "cell_type": "code",
   "execution_count": null,
   "id": "ce20f167",
   "metadata": {},
   "outputs": [],
   "source": [
    "def create_date(ranked_df, date):\n",
    "    \"\"\"\n",
    "    Creates a date column in dataframe\n",
    "    input: ranked dataframe\n",
    "    input: date object (YYYY-MM-DD)\n",
    "    output: dataframe\n",
    "    \"\"\"\n",
    "    ranked_df['date'] = date\n",
    "    return ranked_df"
   ]
  },
  {
   "cell_type": "code",
   "execution_count": null,
   "id": "fbedb7d8",
   "metadata": {},
   "outputs": [],
   "source": [
    "def add_to_excel(complete_df, full_date):\n",
    "    \"\"\"\n",
    "    Writes finalized dataframe to a specific worksheet in the excel workbook\n",
    "    input: dataframe\n",
    "    input: date object (Week Day - YYYY-MM-DD)\n",
    "    \"\"\"\n",
    "    with pd.ExcelWriter(r\"INSERT FILE PATH\", engine = \"openpyxl\",\n",
    "                        mode = \"a\") as writer:\n",
    "        complete_df.to_excel(writer, sheet_name = full_date, index = False)"
   ]
  },
  {
   "cell_type": "markdown",
   "id": "04e02122",
   "metadata": {},
   "source": [
    "# Main Code"
   ]
  },
  {
   "cell_type": "code",
   "execution_count": null,
   "id": "16876a51",
   "metadata": {},
   "outputs": [],
   "source": [
    "data_df = pd.DataFrame()\n",
    "# daily pull of guilds\n",
    "starter_guild_df = get_daily_pull(data_df, key)"
   ]
  },
  {
   "cell_type": "code",
   "execution_count": null,
   "id": "8ed42f09",
   "metadata": {},
   "outputs": [],
   "source": [
    "# removing \"inactive\" guilds\n",
    "active_df = remove_inactive_guilds(starter_guild_df)"
   ]
  },
  {
   "cell_type": "code",
   "execution_count": null,
   "id": "9efa6840",
   "metadata": {},
   "outputs": [],
   "source": [
    "# sorting guilds by ascending order \n",
    "sorted_active_guilds = sort_guilds(active_df)"
   ]
  },
  {
   "cell_type": "code",
   "execution_count": null,
   "id": "360485d7",
   "metadata": {},
   "outputs": [],
   "source": [
    "# create standing rank of guilds\n",
    "leaderboard_guilds = create_standing(sorted_active_guilds)"
   ]
  },
  {
   "cell_type": "code",
   "execution_count": null,
   "id": "6149a839",
   "metadata": {},
   "outputs": [],
   "source": [
    "# getting guild ids from daily pull\n",
    "guild_ids_list = get_guild_ids(leaderboard_guilds)"
   ]
  },
  {
   "cell_type": "code",
   "execution_count": null,
   "id": "07aaf85a",
   "metadata": {
    "scrolled": true
   },
   "outputs": [],
   "source": [
    "# getting membership numbers of each guild\n",
    "guild_mem_df = get_guild_mems(guild_ids_list)"
   ]
  },
  {
   "cell_type": "code",
   "execution_count": null,
   "id": "27dc1c9b",
   "metadata": {},
   "outputs": [],
   "source": [
    "# add member count to final DataFrame\n",
    "total_df = create_mem_count(guild_mem_df, leaderboard_guilds)"
   ]
  },
  {
   "cell_type": "code",
   "execution_count": null,
   "id": "70526dc2",
   "metadata": {},
   "outputs": [],
   "source": [
    "date = date.today()\n",
    "final_df = create_date(total_df, date)"
   ]
  },
  {
   "cell_type": "code",
   "execution_count": null,
   "id": "7a8b3b0c",
   "metadata": {},
   "outputs": [],
   "source": [
    "day_of_week = datetime.today().strftime(\"%A\")\n",
    "full_date = f\"{day_of_week} - {date}\"\n",
    "add_to_excel(final_df, full_date)"
   ]
  }
 ],
 "metadata": {
  "kernelspec": {
   "display_name": "Python 3 (ipykernel)",
   "language": "python",
   "name": "python3"
  },
  "language_info": {
   "codemirror_mode": {
    "name": "ipython",
    "version": 3
   },
   "file_extension": ".py",
   "mimetype": "text/x-python",
   "name": "python",
   "nbconvert_exporter": "python",
   "pygments_lexer": "ipython3",
   "version": "3.8.8"
  }
 },
 "nbformat": 4,
 "nbformat_minor": 5
}
